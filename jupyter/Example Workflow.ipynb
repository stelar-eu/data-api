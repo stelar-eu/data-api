{
 "cells": [
  {
   "cell_type": "code",
   "execution_count": null,
   "id": "b4448280",
   "metadata": {},
   "outputs": [],
   "source": [
    "import requests\n",
    "from time import sleep"
   ]
  },
  {
   "cell_type": "code",
   "execution_count": null,
   "id": "7d91bcb0",
   "metadata": {},
   "outputs": [],
   "source": [
    "url = 'URL-OF-API'\n",
    "headers = {'Api-Token': \"XXXXXXXXXXXXXXXXXXXXX\"}"
   ]
  },
  {
   "cell_type": "markdown",
   "id": "b07ca1cf",
   "metadata": {},
   "source": [
    "# Create an Entry to the Catalog"
   ]
  },
  {
   "cell_type": "code",
   "execution_count": null,
   "id": "7ea754a5",
   "metadata": {},
   "outputs": [],
   "source": [
    "data = {\"package_metadata\": {\"title\": \"Test workflow3\",\n",
    "                             \"notes\": \"This workflow performs entity matching\",\n",
    "                             \"tags\": [\"STELAR\", \"Entity matching\", \"Entity resolution\"]}}\n",
    "response = requests.post(url + 'workflow/publish', \n",
    "                          json=data, headers=headers)\n",
    "print(response.status_code)\n",
    "print(response.json())\n",
    "package_id = response.json()['result']['package_id']"
   ]
  },
  {
   "cell_type": "markdown",
   "id": "5c4a4b05",
   "metadata": {},
   "source": [
    "# Create a workflow"
   ]
  },
  {
   "cell_type": "code",
   "execution_count": null,
   "id": "5f9061f7",
   "metadata": {},
   "outputs": [],
   "source": [
    "data = {\"tags\": {}}\n",
    "response = requests.post(url + 'workflow/execution/create', \n",
    "                          json=data, headers=headers)\n",
    "print(response.status_code)\n",
    "print(response.json())\n",
    "workflow_exec_id = response.json()['workflow_exec_id']"
   ]
  },
  {
   "cell_type": "markdown",
   "id": "2e05c413",
   "metadata": {},
   "source": [
    "# Create a task"
   ]
  },
  {
   "cell_type": "code",
   "execution_count": null,
   "id": "d38750eb",
   "metadata": {},
   "outputs": [],
   "source": [
    "data = {\"workflow_exec_id\": workflow_exec_id,\n",
    "        \"docker_image\": \"alzeakis/pytokenjoin:v3\",\n",
    "        \"input\": [  \"0059004a-67b8-4445-b9d6-5b0475784c49\",\n",
    "                    \"2350a24b-87af-4505-aafb-72a15e0c118c\"],\n",
    "        \"parameters\": {\n",
    "            \"col_id_left\": 1,\n",
    "            \"col_text_left\": 2,\n",
    "            \"separator_left\": \" \",\n",
    "            \"col_id_right\": 0,\n",
    "            \"col_text_right\": 1,\n",
    "            \"separator_right\": \" \",\n",
    "            \"k\": 1,\n",
    "            \"delta_alg\": \"1\",\n",
    "            \"output_file\": \"out.csv\",\n",
    "            \"method\": \"knn\",\n",
    "            \"similarity\": \"jaccard\",\n",
    "            \"foreign\": \"foreign\"\n",
    "        },\n",
    "        \"tags\": {}}\n",
    "response = requests.post(url + 'task/execution/create', \n",
    "                          json=data, headers=headers)\n",
    "print(response.status_code)\n",
    "print(response.json())\n",
    "task_exec_id = response.json()['task_exec_id']"
   ]
  },
  {
   "cell_type": "markdown",
   "id": "f1f83dce",
   "metadata": {},
   "source": [
    "# Track task metadata"
   ]
  },
  {
   "cell_type": "code",
   "execution_count": null,
   "id": "2a874c10",
   "metadata": {},
   "outputs": [],
   "source": [
    "state = 'running'\n",
    "data = {\"task_exec_id\": task_exec_id,\n",
    "        \"package_id\": \"\"}\n",
    "while state != 'succeeded' and state != 'failed':\n",
    "    response = requests.post(url + 'task/execution/track', \n",
    "                          json=data, headers=headers)\n",
    "    print(response.status_code)\n",
    "    print(response.json())   \n",
    "    state = response.json()['metadata']['state']\n",
    "    sleep(2)"
   ]
  },
  {
   "cell_type": "markdown",
   "id": "1a169ee3",
   "metadata": {},
   "source": [
    "# Commit workflow metadata"
   ]
  },
  {
   "cell_type": "code",
   "execution_count": null,
   "id": "45d482b5",
   "metadata": {},
   "outputs": [],
   "source": [
    "data = {\"workflow_exec_id\": workflow_exec_id, \"state\": \"succeeded\"}\n",
    "response = requests.post(url + 'workflow/execution/commit', \n",
    "                          json=data, headers=headers)\n",
    "print(response.status_code)\n",
    "print(response.json())  "
   ]
  },
  {
   "cell_type": "markdown",
   "id": "ecbacbac",
   "metadata": {},
   "source": [
    "# Get workflow metadata"
   ]
  },
  {
   "cell_type": "code",
   "execution_count": null,
   "id": "1fec371f",
   "metadata": {},
   "outputs": [],
   "source": [
    "response = requests.get(url + 'workflow/execution/read?id=' + workflow_exec_id, \n",
    "                        headers=headers)\n",
    "print(response.status_code)\n",
    "print(response.json())  "
   ]
  }
 ],
 "metadata": {
  "kernelspec": {
   "display_name": "Python 3 (ipykernel)",
   "language": "python",
   "name": "python3"
  },
  "language_info": {
   "codemirror_mode": {
    "name": "ipython",
    "version": 3
   },
   "file_extension": ".py",
   "mimetype": "text/x-python",
   "name": "python",
   "nbconvert_exporter": "python",
   "pygments_lexer": "ipython3",
   "version": "3.8.15"
  }
 },
 "nbformat": 4,
 "nbformat_minor": 5
}
