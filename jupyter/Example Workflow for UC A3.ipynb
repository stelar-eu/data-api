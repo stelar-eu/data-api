{
 "cells": [
  {
   "cell_type": "code",
   "execution_count": null,
   "id": "cc0965e4",
   "metadata": {},
   "outputs": [],
   "source": [
    "import requests\n",
    "from time import sleep"
   ]
  },
  {
   "cell_type": "code",
   "execution_count": null,
   "id": "6ee02b6c",
   "metadata": {},
   "outputs": [],
   "source": [
    "url = 'URL-OF-API'\n",
    "headers = {'Api-Token': \"XXXXXXXXXXXXXXXXXXXXX\"}"
   ]
  },
  {
   "cell_type": "markdown",
   "id": "6c211142-2045-455a-b41e-20a94c549e03",
   "metadata": {},
   "source": [
    "# Create an Entry to the Catalog"
   ]
  },
  {
   "cell_type": "code",
   "execution_count": null,
   "id": "81821430-20cf-4660-8a2b-b626059d878a",
   "metadata": {},
   "outputs": [],
   "source": [
    "data = {\"package_metadata\": {\"title\": \"Test Workflow for UC A3 2\",\n",
    "                             \"notes\": \"This workflow performs entity extraction and linking\",\n",
    "                             \"tags\": [\"STELAR\", \"Entity extraction\", \"Entity linking\"]}}\n",
    "response = requests.post(url + 'workflow/publish', \n",
    "                          json=data, headers=headers)\n",
    "print(response.status_code)\n",
    "print(response.json())\n",
    "package_id = response.json()['result']['package_id']"
   ]
  },
  {
   "cell_type": "markdown",
   "id": "922a0b8d",
   "metadata": {},
   "source": [
    "# Create a workflow"
   ]
  },
  {
   "cell_type": "code",
   "execution_count": null,
   "id": "fda98f7d",
   "metadata": {},
   "outputs": [],
   "source": [
    "data = {\"tags\": {}}\n",
    "response = requests.post(url + 'workflow/execution/create', \n",
    "                          json=data, headers=headers)\n",
    "print(response.status_code)\n",
    "print(response.json())\n",
    "workflow_exec_id = response.json()['workflow_exec_id']"
   ]
  },
  {
   "cell_type": "markdown",
   "id": "d35e0068-edb5-48ca-bf6e-eba32bbaf18a",
   "metadata": {},
   "source": [
    "# Create a task for Entity Extraction"
   ]
  },
  {
   "cell_type": "code",
   "execution_count": null,
   "id": "daf0f61d-8046-4a4c-9943-bcea798edcdc",
   "metadata": {},
   "outputs": [],
   "source": [
    "data = {\"workflow_exec_id\": workflow_exec_id,\n",
    "        \"docker_image\": \"ner\",\n",
    "        \"input\": [  \"42d9de05-530d-4c87-b2a1-f4a661d637f5\"],\n",
    "        \"parameters\": {\n",
    "             \"output_file\":\"test_output\",\n",
    "             \"text_column\":\"description\",\n",
    "             \"csv_delimiter\":\",\",\n",
    "             \"keep_food\": True,\n",
    "             \"N\":100,\n",
    "             \"extraction_type\":\"food\",\n",
    "             \"model\":\"instafoodroberta\",\n",
    "             \"syntactic_analysis_tool\":\"spacy\"\n",
    "        },\n",
    "        \"tags\": {}}\n",
    "response = requests.post(url + 'task/execution/create', \n",
    "                          json=data, headers=headers)\n",
    "print(response.status_code)\n",
    "print(response.json())\n",
    "task_exec_id = response.json()['task_exec_id']"
   ]
  },
  {
   "cell_type": "markdown",
   "id": "f345e915-722f-4fcd-8c11-b0100e804c05",
   "metadata": {},
   "source": [
    "# Track task metadata"
   ]
  },
  {
   "cell_type": "code",
   "execution_count": null,
   "id": "357d6caa-95fb-4fe1-bb08-076afd0c564d",
   "metadata": {},
   "outputs": [],
   "source": [
    "state = 'running'\n",
    "data = {\"task_exec_id\": task_exec_id,\n",
    "        \"package_id\": package_id}\n",
    "while state != 'succeeded' and state != 'failed':\n",
    "    response = requests.post(url + 'task/execution/track', \n",
    "                          json=data, headers=headers)\n",
    "    print(response.status_code)\n",
    "    print(response.json())   \n",
    "    state = response.json()['metadata']['state']\n",
    "    sleep(10) "
   ]
  },
  {
   "cell_type": "code",
   "execution_count": null,
   "id": "58ff6e72-516a-45b2-94ed-d2b7a46a860e",
   "metadata": {},
   "outputs": [],
   "source": [
    "resource_id = response.json()['resource_ids'][0]"
   ]
  },
  {
   "cell_type": "markdown",
   "id": "24e43226",
   "metadata": {},
   "source": [
    "# Create a task for Entity Linking"
   ]
  },
  {
   "cell_type": "code",
   "execution_count": null,
   "id": "ac2c13d4",
   "metadata": {},
   "outputs": [],
   "source": [
    "data = {\"workflow_exec_id\": workflow_exec_id,\n",
    "        \"docker_image\": \"alzeakis/pytokenjoin:v3\",\n",
    "        \"input\": [  resource_id,\n",
    "                    \"2350a24b-87af-4505-aafb-72a15e0c118c\"],\n",
    "        \"parameters\": {\n",
    "            \"col_id_left\": 1,\n",
    "            \"col_text_left\": 2,\n",
    "            \"separator_left\": \" \",\n",
    "            \"col_id_right\": 0,\n",
    "            \"col_text_right\": 1,\n",
    "            \"separator_right\": \" \",\n",
    "            \"k\": 1,\n",
    "            \"delta_alg\": \"1\",\n",
    "            \"output_file\": \"out.csv\",\n",
    "            \"method\": \"knn\",\n",
    "            \"similarity\": \"jaccard\",\n",
    "            \"foreign\": \"foreign\"\n",
    "        },\n",
    "        \"tags\": {}}\n",
    "response = requests.post(url + 'task/execution/create', \n",
    "                          json=data, headers=headers)\n",
    "print(response.status_code)\n",
    "print(response.json())\n",
    "task_exec_id = response.json()['task_exec_id']"
   ]
  },
  {
   "cell_type": "markdown",
   "id": "9049f84c",
   "metadata": {},
   "source": [
    "# Track task metadata"
   ]
  },
  {
   "cell_type": "code",
   "execution_count": null,
   "id": "3d914845",
   "metadata": {},
   "outputs": [],
   "source": [
    "state = 'running'\n",
    "data = {\"task_exec_id\": task_exec_id,\n",
    "        \"package_id\": package_id}\n",
    "while state != 'succeeded' and state != 'failed':\n",
    "    response = requests.post(url + 'task/execution/track', \n",
    "                          json=data, headers=headers)\n",
    "    print(response.status_code)\n",
    "    print(response.json())   \n",
    "    state = response.json()['metadata']['state']\n",
    "    sleep(2)"
   ]
  },
  {
   "cell_type": "markdown",
   "id": "1bb4823a",
   "metadata": {},
   "source": [
    "# Commit workflow metadata"
   ]
  },
  {
   "cell_type": "code",
   "execution_count": null,
   "id": "67eab661",
   "metadata": {},
   "outputs": [],
   "source": [
    "data = {\"workflow_exec_id\": workflow_exec_id, \"state\": \"succeeded\"}\n",
    "response = requests.post(url + 'workflow/execution/commit', \n",
    "                          json=data, headers=headers)\n",
    "print(response.status_code)\n",
    "print(response.json())  "
   ]
  },
  {
   "cell_type": "markdown",
   "id": "7ea02b76",
   "metadata": {},
   "source": [
    "# Get workflow metadata"
   ]
  },
  {
   "cell_type": "code",
   "execution_count": null,
   "id": "3ea89799",
   "metadata": {},
   "outputs": [],
   "source": [
    "response = requests.get(url + 'workflow/execution/read?id=' + workflow_exec_id, \n",
    "                        headers=headers)\n",
    "print(response.status_code)\n",
    "print(response.json())  "
   ]
  }
 ],
 "metadata": {
  "kernelspec": {
   "display_name": "Python 3 (ipykernel)",
   "language": "python",
   "name": "python3"
  },
  "language_info": {
   "codemirror_mode": {
    "name": "ipython",
    "version": 3
   },
   "file_extension": ".py",
   "mimetype": "text/x-python",
   "name": "python",
   "nbconvert_exporter": "python",
   "pygments_lexer": "ipython3",
   "version": "3.8.15"
  }
 },
 "nbformat": 4,
 "nbformat_minor": 5
}
