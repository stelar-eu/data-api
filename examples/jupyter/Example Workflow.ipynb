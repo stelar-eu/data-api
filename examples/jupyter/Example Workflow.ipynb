{
 "cells": [
  {
   "cell_type": "code",
   "execution_count": null,
   "id": "cc0965e4",
   "metadata": {},
   "outputs": [],
   "source": [
    "import requests\n",
    "from time import sleep"
   ]
  },
  {
   "cell_type": "code",
   "execution_count": null,
   "id": "6ee02b6c",
   "metadata": {},
   "outputs": [],
   "source": [
    "url = 'URL-OF-API'\n",
    "headers = {'Api-Token': \"XXXXXXXXXXXXXXXXXXXXX\"}"
   ]
  },
  {
   "cell_type": "markdown",
   "id": "6c211142-2045-455a-b41e-20a94c549e03",
   "metadata": {},
   "source": [
    "# Create an Entry to the Catalog"
   ]
  },
  {
   "cell_type": "code",
   "execution_count": null,
   "id": "81821430-20cf-4660-8a2b-b626059d878a",
   "metadata": {},
   "outputs": [],
   "source": [
    "data = {\"package_metadata\": {\"title\": \"Test workflow\",\n",
    "                             \"notes\": \"This workflow performs entity matching\",\n",
    "                             \"tags\": [\"STELAR\", \"Entity matching\", \"Entity resolution\"]}}\n",
    "response = requests.post(url + 'workflow/publish', \n",
    "                          json=data, headers=headers)\n",
    "print(response.status_code)\n",
    "print(response.json())\n",
    "package_id = response.json()['result']['package_id']"
   ]
  },
  {
   "cell_type": "markdown",
   "id": "922a0b8d",
   "metadata": {},
   "source": [
    "# Create a workflow"
   ]
  },
  {
   "cell_type": "code",
   "execution_count": null,
   "id": "fda98f7d",
   "metadata": {},
   "outputs": [],
   "source": [
    "data = {\"tags\": {}}\n",
    "response = requests.post(url + 'workflow/execution/create', \n",
    "                          json=data, headers=headers)\n",
    "print(response.status_code)\n",
    "print(response.json())\n",
    "workflow_exec_id = response.json()['workflow_exec_id']"
   ]
  },
  {
   "cell_type": "markdown",
   "id": "24e43226",
   "metadata": {},
   "source": [
    "# Create a task"
   ]
  },
  {
   "cell_type": "code",
   "execution_count": null,
   "id": "ac2c13d4",
   "metadata": {},
   "outputs": [],
   "source": [
    "data = {\"workflow_exec_id\": workflow_exec_id,\n",
    "        \"docker_image\": \"alzeakis/pytokenjoin:v5\",\n",
    "        \"input\": [  \"0059004a-67b8-4445-b9d6-5b0475784c49\",\n",
    "                    \"dbee0078-f053-404a-b09d-bde29eaf5521\"],\n",
    "        \"parameters\": {\n",
    "            \"header_left\": 0,\n",
    "            \"col_id_left\": \"text_id\",\n",
    "            \"col_text_left\": \"phrase\",\n",
    "            \"col_separator_left\": \",\",\n",
    "            \"col_ground_left\": \"food product\",\n",
    "            \"text_separator_left\": \" \",\n",
    "            \"header_right\": -1,\n",
    "            \"col_id_right\": \"1\",\n",
    "            \"col_text_right\": \"2\",\n",
    "            \"col_separator_right\": \";\",\n",
    "            \"text_separator_right\": \" \",\n",
    "            \"k\": 1,\n",
    "            \"delta_alg\": \"1\",\n",
    "            \"output_file\": \"out.csv\",\n",
    "            \"method\": \"knn\",\n",
    "            \"similarity\": \"jaccard\",\n",
    "            \"foreign\": \"foreign\"\n",
    "        },\n",
    "        \"package_id\": package_id,\n",
    "        \"tags\": {}}\n",
    "response = requests.post(url + 'task/execution/create', \n",
    "                          json=data, headers=headers)\n",
    "print(response.status_code)\n",
    "print(response.json())\n",
    "task_exec_id = response.json()['task_exec_id']"
   ]
  },
  {
   "cell_type": "markdown",
   "id": "9049f84c",
   "metadata": {},
   "source": [
    "# Track task metadata"
   ]
  },
  {
   "cell_type": "code",
   "execution_count": null,
   "id": "3d914845",
   "metadata": {},
   "outputs": [],
   "source": [
    "state = 'running'\n",
    "while state != 'succeeded' and state != 'failed':\n",
    "    response = requests.get(url + 'task/execution/read?id=' + task_exec_id, \n",
    "                        headers=headers)\n",
    "    print(response.status_code)\n",
    "    print(response.json())   \n",
    "    state = response.json()['result']['metadata']['state']\n",
    "    sleep(2)"
   ]
  },
  {
   "cell_type": "markdown",
   "id": "1bb4823a",
   "metadata": {},
   "source": [
    "# Commit workflow metadata"
   ]
  },
  {
   "cell_type": "code",
   "execution_count": null,
   "id": "67eab661",
   "metadata": {},
   "outputs": [],
   "source": [
    "data = {\"workflow_exec_id\": workflow_exec_id, \"state\": \"succeeded\"}\n",
    "response = requests.post(url + 'workflow/execution/commit', \n",
    "                          json=data, headers=headers)\n",
    "print(response.status_code)\n",
    "print(response.json())  "
   ]
  },
  {
   "cell_type": "markdown",
   "id": "7ea02b76",
   "metadata": {},
   "source": [
    "# Get workflow metadata"
   ]
  },
  {
   "cell_type": "code",
   "execution_count": null,
   "id": "3ea89799",
   "metadata": {},
   "outputs": [],
   "source": [
    "response = requests.get(url + 'workflow/execution/read?id=' + workflow_exec_id, \n",
    "                        headers=headers)\n",
    "print(response.status_code)\n",
    "print(response.json())  "
   ]
  }
 ],
 "metadata": {
  "kernelspec": {
   "display_name": "Python 3 (ipykernel)",
   "language": "python",
   "name": "python3"
  },
  "language_info": {
   "codemirror_mode": {
    "name": "ipython",
    "version": 3
   },
   "file_extension": ".py",
   "mimetype": "text/x-python",
   "name": "python",
   "nbconvert_exporter": "python",
   "pygments_lexer": "ipython3",
   "version": "3.8.15"
  }
 },
 "nbformat": 4,
 "nbformat_minor": 5
}
